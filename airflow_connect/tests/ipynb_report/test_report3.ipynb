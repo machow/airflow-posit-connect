{
 "cells": [
  {
   "cell_type": "code",
   "execution_count": null,
   "id": "4907d7c9",
   "metadata": {},
   "outputs": [],
   "source": [
    "import os\n",
    "print(1 + 1)\n",
    "assert os.environ['ENV_THING_1'] == 'ABC'\n",
    "assert os.environ['ENV_THING_2'] == 'DEF'\n"
   ]
  }
 ],
 "metadata": {
  "jupytext": {
   "cell_metadata_filter": "-all",
   "main_language": "python",
   "notebook_metadata_filter": "-all"
  }
 },
 "nbformat": 4,
 "nbformat_minor": 5
}
