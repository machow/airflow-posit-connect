{
 "cells": [
  {
   "cell_type": "code",
   "execution_count": null,
   "id": "4907d7c9",
   "metadata": {},
   "outputs": [],
   "source": [
    "print(1 + 1)"
   ]
  }
 ],
 "metadata": {
  "jupytext": {
   "cell_metadata_filter": "-all",
   "main_language": "python",
   "notebook_metadata_filter": "-all"
  }
 },
 "nbformat": 4,
 "nbformat_minor": 5
}
